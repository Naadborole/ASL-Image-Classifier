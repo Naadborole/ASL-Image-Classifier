{
 "cells": [
  {
   "cell_type": "code",
   "execution_count": 1,
   "metadata": {},
   "outputs": [
    {
     "name": "stderr",
     "output_type": "stream",
     "text": [
      "Using TensorFlow backend.\n"
     ]
    }
   ],
   "source": [
    "import numpy as np\n",
    "import pandas as pd\n",
    "import tensorflow as tf\n",
    "import matplotlib.pyplot as plt\n",
    "import keras\n",
    "from keras.models import Sequential\n",
    "from keras.layers import Conv2D, MaxPool2D, Dense, Flatten\n",
    "from keras.preprocessing.image import ImageDataGenerator\n",
    "from jupyterthemes import jtplot\n",
    "import os\n",
    "import cv2\n",
    "from sklearn.model_selection import train_test_split\n",
    "%matplotlib inline\n",
    "jtplot.style(grid=False)"
   ]
  },
  {
   "cell_type": "code",
   "execution_count": 2,
   "metadata": {},
   "outputs": [],
   "source": [
    "from keras.applications.resnet50 import ResNet50"
   ]
  },
  {
   "cell_type": "code",
   "execution_count": 3,
   "metadata": {},
   "outputs": [],
   "source": [
    "model = ResNet50(weights=None,input_shape=(64,64,3), classes=29)"
   ]
  },
  {
   "cell_type": "code",
   "execution_count": 4,
   "metadata": {},
   "outputs": [],
   "source": [
    "model.compile(optimizer='adam', loss='categorical_crossentropy', metrics=['accuracy'])"
   ]
  },
  {
   "cell_type": "code",
   "execution_count": 5,
   "metadata": {},
   "outputs": [],
   "source": [
    "labels_dict = {'A':0,'B':1,'C':2,'D':3,'E':4,'F':5,'G':6,'H':7,'I':8,'J':9,'K':10,'L':11,'M':12,\n",
    "                   'N':13,'O':14,'P':15,'Q':16,'R':17,'S':18,'T':19,'U':20,'V':21,'W':22,'X':23,'Y':24,\n",
    "                   'Z':25,'space':26,'del':27,'nothing':28}\n",
    "dirlist = os.listdir('dataset/train')\n",
    "def load_dataset():\n",
    "    images = []\n",
    "    labels = []\n",
    "    path = 'dataset/train/'\n",
    "    print('Extracting images from: ', end=\" \")\n",
    "    for folder in dirlist:\n",
    "        print(folder, end=\"| \")\n",
    "        for img in os.listdir(path+folder):\n",
    "            t = cv2.imread(path+folder+'/'+img)\n",
    "            t = cv2.resize(t, (64,64))\n",
    "            images.append(t)\n",
    "            labels.append(labels_dict[folder])\n",
    "    images = np.array(images)\n",
    "    images = images.astype('float32')/255.0\n",
    "    labels = keras.utils.to_categorical(labels)\n",
    "    X_train, X_test, Y_train, Y_test = train_test_split(images, labels, test_size = 0.05)\n",
    "    return X_train, X_test, Y_train, Y_test"
   ]
  },
  {
   "cell_type": "code",
   "execution_count": 6,
   "metadata": {},
   "outputs": [
    {
     "name": "stdout",
     "output_type": "stream",
     "text": [
      "Extracting images from:  A| B| C| D| del| E| F| G| H| I| J| K| L| M| N| nothing| O| P| Q| R| S| space| T| U| V| W| X| Y| Z| "
     ]
    }
   ],
   "source": [
    "X_train, X_test, Y_train, Y_test = load_dataset()"
   ]
  },
  {
   "cell_type": "code",
   "execution_count": 13,
   "metadata": {},
   "outputs": [],
   "source": [
    "from keras.callbacks.callbacks import ModelCheckpoint\n",
    "check = ModelCheckpoint('asl64Model.h5', monitor='val_accuracy', save_best_only=True, verbose=1)"
   ]
  },
  {
   "cell_type": "code",
   "execution_count": 14,
   "metadata": {},
   "outputs": [
    {
     "name": "stdout",
     "output_type": "stream",
     "text": [
      "Train on 74385 samples, validate on 8265 samples\n",
      "Epoch 1/20\n",
      "74385/74385 [==============================] - 207s 3ms/step - loss: 0.0639 - accuracy: 0.9830 - val_loss: 2.8087 - val_accuracy: 0.6136\n",
      "\n",
      "Epoch 00001: val_accuracy improved from -inf to 0.61355, saving model to asl64Model.h5\n",
      "Epoch 2/20\n",
      "74385/74385 [==============================] - 209s 3ms/step - loss: 0.0235 - accuracy: 0.9938 - val_loss: 0.1153 - val_accuracy: 0.9661\n",
      "\n",
      "Epoch 00002: val_accuracy improved from 0.61355 to 0.96612, saving model to asl64Model.h5\n",
      "Epoch 3/20\n",
      "74385/74385 [==============================] - 209s 3ms/step - loss: 0.0203 - accuracy: 0.9941 - val_loss: 0.0077 - val_accuracy: 0.9973\n",
      "\n",
      "Epoch 00003: val_accuracy improved from 0.96612 to 0.99734, saving model to asl64Model.h5\n",
      "Epoch 4/20\n",
      "74385/74385 [==============================] - 211s 3ms/step - loss: 0.0456 - accuracy: 0.9889 - val_loss: 0.0046 - val_accuracy: 0.99830 - ac - ETA: 0s - loss: 0.0457 - accuracy\n",
      "\n",
      "Epoch 00004: val_accuracy improved from 0.99734 to 0.99831, saving model to asl64Model.h5\n",
      "Epoch 5/20\n",
      "74385/74385 [==============================] - 211s 3ms/step - loss: 0.0273 - accuracy: 0.9929 - val_loss: 0.0563 - val_accuracy: 0.9823\n",
      "\n",
      "Epoch 00005: val_accuracy did not improve from 0.99831\n",
      "Epoch 6/20\n",
      "74385/74385 [==============================] - 213s 3ms/step - loss: 0.0177 - accuracy: 0.9952 - val_loss: 0.0018 - val_accuracy: 0.9995\n",
      "\n",
      "Epoch 00006: val_accuracy improved from 0.99831 to 0.99952, saving model to asl64Model.h5\n",
      "Epoch 7/20\n",
      "74385/74385 [==============================] - 212s 3ms/step - loss: 0.0299 - accuracy: 0.9930 - val_loss: 1.3183 - val_accuracy: 0.7592\n",
      "\n",
      "Epoch 00007: val_accuracy did not improve from 0.99952\n",
      "Epoch 8/20\n",
      "74385/74385 [==============================] - 213s 3ms/step - loss: 0.0166 - accuracy: 0.9960 - val_loss: 0.1433 - val_accuracy: 0.9648\n",
      "\n",
      "Epoch 00008: val_accuracy did not improve from 0.99952\n",
      "Epoch 9/20\n",
      "74385/74385 [==============================] - 213s 3ms/step - loss: 0.0228 - accuracy: 0.9946 - val_loss: 0.0048 - val_accuracy: 0.9985\n",
      "\n",
      "Epoch 00009: val_accuracy did not improve from 0.99952\n",
      "Epoch 10/20\n",
      "74385/74385 [==============================] - 213s 3ms/step - loss: 0.0190 - accuracy: 0.9953 - val_loss: 0.0679 - val_accuracy: 0.9791\n",
      "\n",
      "Epoch 00010: val_accuracy did not improve from 0.99952\n",
      "Epoch 11/20\n",
      "74385/74385 [==============================] - 212s 3ms/step - loss: 0.0163 - accuracy: 0.9960 - val_loss: 0.0014 - val_accuracy: 0.9995\n",
      "\n",
      "Epoch 00011: val_accuracy did not improve from 0.99952\n",
      "Epoch 12/20\n",
      "74385/74385 [==============================] - 212s 3ms/step - loss: 0.0110 - accuracy: 0.9971 - val_loss: 0.0270 - val_accuracy: 0.9909\n",
      "\n",
      "Epoch 00012: val_accuracy did not improve from 0.99952\n",
      "Epoch 13/20\n",
      "74385/74385 [==============================] - 212s 3ms/step - loss: 0.0085 - accuracy: 0.9974 - val_loss: 7.9981e-04 - val_accuracy: 0.9996\n",
      "\n",
      "Epoch 00013: val_accuracy improved from 0.99952 to 0.99964, saving model to asl64Model.h5\n",
      "Epoch 14/20\n",
      "74385/74385 [==============================] - 213s 3ms/step - loss: 0.0026 - accuracy: 0.9993 - val_loss: 0.7811 - val_accuracy: 0.8635\n",
      "\n",
      "Epoch 00014: val_accuracy did not improve from 0.99964\n",
      "Epoch 15/20\n",
      "74385/74385 [==============================] - 212s 3ms/step - loss: 0.0274 - accuracy: 0.9937 - val_loss: 0.0199 - val_accuracy: 0.9948\n",
      "\n",
      "Epoch 00015: val_accuracy did not improve from 0.99964\n",
      "Epoch 16/20\n",
      "74385/74385 [==============================] - 212s 3ms/step - loss: 0.0044 - accuracy: 0.9990 - val_loss: 3.5467e-04 - val_accuracy: 0.9999\n",
      "\n",
      "Epoch 00016: val_accuracy improved from 0.99964 to 0.99988, saving model to asl64Model.h5\n",
      "Epoch 17/20\n",
      "74385/74385 [==============================] - 212s 3ms/step - loss: 0.0204 - accuracy: 0.9953 - val_loss: 0.0239 - val_accuracy: 0.9926\n",
      "\n",
      "Epoch 00017: val_accuracy did not improve from 0.99988\n",
      "Epoch 18/20\n",
      "74385/74385 [==============================] - 212s 3ms/step - loss: 0.0078 - accuracy: 0.9983 - val_loss: 6.7780e-04 - val_accuracy: 0.9999\n",
      "\n",
      "Epoch 00018: val_accuracy did not improve from 0.99988\n",
      "Epoch 19/20\n",
      "74385/74385 [==============================] - 212s 3ms/step - loss: 0.0042 - accuracy: 0.9988 - val_loss: 0.0392 - val_accuracy: 0.9892\n",
      "\n",
      "Epoch 00019: val_accuracy did not improve from 0.99988\n",
      "Epoch 20/20\n",
      "74385/74385 [==============================] - 212s 3ms/step - loss: 0.0082 - accuracy: 0.9976 - val_loss: 0.0047 - val_accuracy: 0.9989\n",
      "\n",
      "Epoch 00020: val_accuracy did not improve from 0.99988\n"
     ]
    }
   ],
   "source": [
    "model_hist = model.fit(X_train, Y_train, batch_size = 64, epochs = 20, validation_split = 0.1, callbacks=[check])"
   ]
  },
  {
   "cell_type": "code",
   "execution_count": 15,
   "metadata": {},
   "outputs": [
    {
     "name": "stdout",
     "output_type": "stream",
     "text": [
      "4350/4350 [==============================] - 4s 895us/step\n",
      "\n",
      "Evaluation Accuracy =  99.98% \n",
      "Evaluation loss =  0.000974\n"
     ]
    }
   ],
   "source": [
    "evaluate_metrics = model.evaluate(X_test, Y_test)\n",
    "print(\"\\nEvaluation Accuracy = \", \"{:.2f}%\".format(evaluate_metrics[1]*100),\"\\nEvaluation loss = \" ,\"{:.6f}\".format(evaluate_metrics[0]))"
   ]
  },
  {
   "cell_type": "code",
   "execution_count": 18,
   "metadata": {
    "scrolled": false
   },
   "outputs": [
    {
     "data": {
      "image/png": "[encoded data removed]",
      "text/plain": [
       "<Figure size 432x288 with 1 Axes>"
      ]
     },
     "metadata": {
      "needs_background": "dark"
     },
     "output_type": "display_data"
    },
    {
     "data": {
      "image/png": "[encoded data removed]",
      "text/plain": [
       "<Figure size 432x288 with 1 Axes>"
      ]
     },
     "metadata": {
      "needs_background": "dark"
     },
     "output_type": "display_data"
    }
   ],
   "source": [
    "plt.plot(model_hist.history['accuracy'])\n",
    "plt.plot(model_hist.history['val_accuracy'])\n",
    "plt.legend(['train', 'test'], loc='lower right')\n",
    "plt.title('accuracy plot - train vs test')\n",
    "plt.xlabel('epoch')\n",
    "plt.ylabel('accuracy')\n",
    "plt.show()\n",
    "\n",
    "plt.plot(model_hist.history['loss'])\n",
    "plt.plot(model_hist.history['val_loss'])\n",
    "plt.legend(['training loss', 'validation loss'], loc = 'upper right')\n",
    "plt.title('loss plot - training vs vaidation')\n",
    "plt.xlabel('epoch')\n",
    "plt.ylabel('loss')\n",
    "plt.show()"
   ]
  },
  {
   "cell_type": "code",
   "execution_count": 31,
   "metadata": {},
   "outputs": [
    {
     "data": {
      "text/plain": [
       "'C'"
      ]
     },
     "execution_count": 31,
     "metadata": {},
     "output_type": "execute_result"
    }
   ],
   "source": [
    "Label = ['A','B','C','D','E','F','G','H','I','J','K','L','M','N','O','P','Q','R','S','T','U','V','W','X','Y',\n",
    "                   'Z','space','del','nothing']\n",
    "t = cv2.imread('IMG_20200504_231950.jpg')\n",
    "t = cv2.resize(t, (64,64))\n",
    "t = t/255\n",
    "t = t[np.newaxis, :]\n",
    "Label[np.argmax(model.predict(t))]\n"
   ]
  },
  {
   "cell_type": "code",
   "execution_count": 27,
   "metadata": {},
   "outputs": [],
   "source": [
    "model.save('aslFinal.h5')"
   ]
  }
 ],
 "metadata": {
  "kernelspec": {
   "display_name": "Python 3",
   "language": "python",
   "name": "python3"
  },
  "language_info": {
   "codemirror_mode": {
    "name": "ipython",
    "version": 3
   },
   "file_extension": ".py",
   "mimetype": "text/x-python",
   "name": "python",
   "nbconvert_exporter": "python",
   "pygments_lexer": "ipython3",
   "version": "3.7.7"
  }
 },
 "nbformat": 4,
 "nbformat_minor": 2
}
