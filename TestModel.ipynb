{
 "cells": [
  {
   "cell_type": "code",
   "execution_count": 4,
   "metadata": {},
   "outputs": [],
   "source": [
    "import numpy as np\n",
    "import pandas as pd\n",
    "import tensorflow as tf\n",
    "import matplotlib.pyplot as plt\n",
    "import keras\n",
    "import cv2\n",
    "import os\n",
    "from keras.models import load_model\n",
    "%matplotlib inline"
   ]
  },
  {
   "cell_type": "code",
   "execution_count": 3,
   "metadata": {},
   "outputs": [],
   "source": [
    "model = load_model('ASL64model.h5')"
   ]
  },
  {
   "cell_type": "code",
   "execution_count": 7,
   "metadata": {},
   "outputs": [
    {
     "name": "stdout",
     "output_type": "stream",
     "text": [
      "A_test.jpg: A\n",
      "B_test.jpg: B\n",
      "C_test.jpg: C\n",
      "D_test.jpg: D\n",
      "E_test.jpg: E\n",
      "F_test.jpg: F\n",
      "G_test.jpg: G\n",
      "H_test.jpg: H\n",
      "I_test.jpg: I\n",
      "J_test.jpg: J\n",
      "K_test.jpg: K\n",
      "L_test.jpg: L\n",
      "M_test.jpg: M\n",
      "nothing_test.jpg: nothing\n",
      "N_test.jpg: N\n",
      "O_test.jpg: O\n",
      "P_test.jpg: P\n",
      "Q_test.jpg: Q\n",
      "R_test.jpg: R\n",
      "space_test.jpg: space\n",
      "S_test.jpg: S\n",
      "T_test.jpg: T\n",
      "U_test.jpg: U\n",
      "V_test.jpg: V\n",
      "W_test.jpg: W\n",
      "X_test.jpg: X\n",
      "Y_test.jpg: Y\n",
      "Z_test.jpg: Z\n"
     ]
    }
   ],
   "source": [
    "#Custom input\n",
    "# 1. Copy images in the directory named test as ipynb file\n",
    "Label = ['A','B','C','D','E','F','G','H','I','J','K','L','M','N','O','P','Q','R','S','T','U','V','W','X','Y',\n",
    "                   'Z','space','del','nothing']\n",
    "images = os.listdir('test/')\n",
    "for img in images:\n",
    "    t = cv2.imread('test/' + img)\n",
    "    t = cv2.resize(t, (64,64))\n",
    "    t = t/255\n",
    "    t = t[np.newaxis, :]\n",
    "    print(img, end=\": \")\n",
    "    print(Label[np.argmax(model.predict(t))])"
   ]
  },
  {
   "cell_type": "code",
   "execution_count": null,
   "metadata": {},
   "outputs": [],
   "source": []
  }
 ],
 "metadata": {
  "kernelspec": {
   "display_name": "Python 3",
   "language": "python",
   "name": "python3"
  },
  "language_info": {
   "codemirror_mode": {
    "name": "ipython",
    "version": 3
   },
   "file_extension": ".py",
   "mimetype": "text/x-python",
   "name": "python",
   "nbconvert_exporter": "python",
   "pygments_lexer": "ipython3",
   "version": "3.7.7"
  }
 },
 "nbformat": 4,
 "nbformat_minor": 2
}
